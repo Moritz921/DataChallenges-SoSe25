{
 "cells": [
  {
   "cell_type": "markdown",
   "id": "711d4ac8",
   "metadata": {},
   "source": [
    "### Pakete laden und Daten einlesen"
   ]
  },
  {
   "cell_type": "code",
   "execution_count": null,
   "id": "c4cc968d",
   "metadata": {},
   "outputs": [
    {
     "name": "stdout",
     "output_type": "stream",
     "text": [
      "Edges:\n",
      "             Source              Target         Types  Weight\n",
      "0       Bad Zurzach               Brugg          BS C       1\n",
      "1       Bad Zurzach            Windisch          BS C       1\n",
      "2       Bad Zurzach               Basel          BS C       1\n",
      "3       Bad Zurzach                Bern          BS C       1\n",
      "4       Bad Zurzach          Niederbipp          BS C       1\n",
      "...             ...                 ...           ...     ...\n",
      "1611  Tabertshausen           Ruckasing  BS Prototype       1\n",
      "1612  Tabertshausen  Berching-Pollanten  BS Prototype       1\n",
      "1613      Plattling           Ruckasing  BS Prototype       1\n",
      "1614      Plattling  Berching-Pollanten  BS Prototype       1\n",
      "1615      Ruckasing  Berching-Pollanten  BS Prototype       1\n",
      "\n",
      "[1616 rows x 4 columns]\n",
      "\n",
      "Nodes:\n",
      "                            Id                       Label   latitude  \\\n",
      "0      Wartenberg Sellmayerhof     Wartenberg Sellmayerhof  48.382737   \n",
      "1                  Sättelstädt                 Sättelstädt  50.943022   \n",
      "2                Felber Tauern               Felber Tauern  47.157657   \n",
      "3               Erding-Pretzen              Erding-Pretzen  48.279200   \n",
      "4   Pfaffenhofen-Trappeleacker  Pfaffenhofen-Trappeleacker  47.277648   \n",
      "..                         ...                         ...        ...   \n",
      "68        Balm bei Lottstetten        Balm bei Lottstetten  47.627516   \n",
      "69                  Merklingen                  Merklingen  48.510106   \n",
      "70                        Baar                        Baar  47.195198   \n",
      "71                  Niederbipp                  Niederbipp  47.268494   \n",
      "72                     Rheinau                     Rheinau  47.643925   \n",
      "\n",
      "    longitude Group  \n",
      "0   11.957708   Ost  \n",
      "1   10.481468   Ost  \n",
      "2   12.496512   Ost  \n",
      "3   11.912734   Ost  \n",
      "4   11.075017   Ost  \n",
      "..        ...   ...  \n",
      "68   8.573616  West  \n",
      "69   9.755774   Ost  \n",
      "70   8.525398  West  \n",
      "71   7.693334  West  \n",
      "72   8.601757  West  \n",
      "\n",
      "[73 rows x 5 columns]\n"
     ]
    }
   ],
   "source": [
    "import pandas as pd\n",
    "\n",
    "output_dir = \"out/\"\n",
    "\n",
    "edges_df = pd.read_csv(\"edges.csv\", sep=\";\")\n",
    "nodes_df = pd.read_csv(\"nodes.csv\", sep=\",\")\n",
    "\n",
    "print(\"Edges:\")\n",
    "print(edges_df)\n",
    "print(\"\\nNodes:\")\n",
    "print(nodes_df)\n",
    "\n"
   ]
  },
  {
   "cell_type": "markdown",
   "id": "656a0bd6",
   "metadata": {},
   "source": [
    "### Daten für Gruppe West erstellen"
   ]
  },
  {
   "cell_type": "code",
   "execution_count": 11,
   "id": "2488ede0",
   "metadata": {},
   "outputs": [
    {
     "name": "stdout",
     "output_type": "stream",
     "text": [
      "25 Knoten wurden in 'nodes_west.csv' gespeichert.\n",
      "325 Kanten wurden in 'edges_west.csv' gespeichert.\n"
     ]
    }
   ],
   "source": [
    "## NODES für West\n",
    "# Nur Nodes behalten, die zur Gruppe West gehören\n",
    "nodes_df_west = nodes_df[nodes_df[\"Group\"].isin([\"West\"])]\n",
    "\n",
    "# Neue CSV speichern\n",
    "nodes_df_west.to_csv(output_dir + \"nodes_west.csv\", index=False)\n",
    "print(f\"{len(nodes_df_west)} Knoten wurden in 'nodes_west.csv' gespeichert.\")\n",
    "\n",
    "## EDGES für West\n",
    "# Set mit erlaubten IDs aus der Nodes-Datei\n",
    "ids_west = set(nodes_df_west['Id'])\n",
    "\n",
    "# Nur Edges behalten, die Nodes der Gruppe West verbinden\n",
    "filtered_edges_west = edges_df[\n",
    "    edges_df['Source'].isin(ids_west) & edges_df['Target'].isin(ids_west)\n",
    "]\n",
    "\n",
    "filtered_edges_west = filtered_edges_west[['Source', 'Target', 'Types', 'Weight']]\n",
    "\n",
    "# Neue CSV speichern\n",
    "filtered_edges_west.to_csv(output_dir + \"edges_west.csv\", index=False)\n",
    "print(f\"{len(filtered_edges_west)} Kanten wurden in 'edges_west.csv' gespeichert.\")"
   ]
  },
  {
   "cell_type": "markdown",
   "id": "28565d32",
   "metadata": {},
   "source": [
    "### Daten für Gruppe Ost erstellen"
   ]
  },
  {
   "cell_type": "code",
   "execution_count": 12,
   "id": "5f8491a4",
   "metadata": {},
   "outputs": [
    {
     "name": "stdout",
     "output_type": "stream",
     "text": [
      "48 Knoten wurden in 'nodes_ost.csv' gespeichert.\n",
      "764 Kanten wurden in 'edges_ost.csv' gespeichert.\n"
     ]
    }
   ],
   "source": [
    "## NODES für Ost\n",
    "# Nur Nodes behalten, die zur Gruppe Ost gehören\n",
    "nodes_df_ost = nodes_df[nodes_df[\"Group\"].isin([\"Ost\"])]\n",
    "\n",
    "# Neue CSV speichern\n",
    "nodes_df_ost.to_csv(output_dir + \"nodes_ost.csv\", index=False)\n",
    "print(f\"{len(nodes_df_ost)} Knoten wurden in 'nodes_ost.csv' gespeichert.\")\n",
    "\n",
    "## EDGES für Ost\n",
    "# Set mit erlaubten IDs aus der Nodes-Datei\n",
    "ids_ost = set(nodes_df_ost['Id'])\n",
    "\n",
    "# Nur Edges behalten, die Nodes der Gruppe Ost verbinden\n",
    "filtered_edges_ost = edges_df[\n",
    "    edges_df['Source'].isin(ids_ost) & edges_df['Target'].isin(ids_ost)\n",
    "]\n",
    "\n",
    "filtered_edges_ost = filtered_edges_ost[['Source', 'Target', 'Types', 'Weight']]\n",
    "\n",
    "# Neue CSV speichern\n",
    "filtered_edges_ost.to_csv(output_dir + \"edges_ost.csv\", index=False)\n",
    "print(f\"{len(filtered_edges_ost)} Kanten wurden in 'edges_ost.csv' gespeichert.\")"
   ]
  },
  {
   "cell_type": "markdown",
   "id": "a3694cd9",
   "metadata": {},
   "source": [
    "### Daten für Münztypen C, D, E erstellen"
   ]
  },
  {
   "cell_type": "code",
   "execution_count": 13,
   "id": "a3d00b32",
   "metadata": {},
   "outputs": [
    {
     "name": "stdout",
     "output_type": "stream",
     "text": [
      "1174 Kanten wurden in 'edges_cde.csv' gespeichert.\n",
      "50 Knoten wurden in 'nodes_cde.csv' gespeichert.\n"
     ]
    }
   ],
   "source": [
    "## EDGES für Typen C, D, E\n",
    "# Nach Münztypen C, D, E in Spalte \"Types\" filtern\n",
    "filtered_edges_cde = edges_df[edges_df[\"Types\"].isin([\"BS C\", \"BS D\", \"BS E\"])]\n",
    "\n",
    "# Gefilterte CSV speichern\n",
    "filtered_edges_cde.to_csv(output_dir + \"edges_cde.csv\", index=False)\n",
    "print(f\"{len(filtered_edges_cde)} Kanten wurden in 'edges_cde.csv' gespeichert.\")\n",
    "\n",
    "## NODES für Typen C, D, E\n",
    "# Alle Knoten-IDs, die in Source oder Target vorkommen\n",
    "node_ids_cde = pd.unique(filtered_edges_cde[[\"Source\", \"Target\"]].values.ravel())\n",
    "\n",
    "# Nur die Knoten übernehmen, die auch in edges_cde vorkommen\n",
    "filtered_nodes_cde = nodes_df[nodes_df[\"Id\"].isin(node_ids_cde)]\n",
    "\n",
    "# Duplikate entfernen (falls nötig) und CSV speichern\n",
    "filtered_nodes_cde = filtered_nodes_cde.drop_duplicates(subset=[\"Id\"])\n",
    "filtered_nodes_cde.to_csv(output_dir + \"nodes_cde.csv\", index=False)\n",
    "print(f\"{len(filtered_nodes_cde)} Knoten wurden in 'nodes_cde.csv' gespeichert.\")"
   ]
  }
 ],
 "metadata": {
  "kernelspec": {
   "display_name": "dataChallanges",
   "language": "python",
   "name": "python3"
  },
  "language_info": {
   "codemirror_mode": {
    "name": "ipython",
    "version": 3
   },
   "file_extension": ".py",
   "mimetype": "text/x-python",
   "name": "python",
   "nbconvert_exporter": "python",
   "pygments_lexer": "ipython3",
   "version": "3.12.4"
  }
 },
 "nbformat": 4,
 "nbformat_minor": 5
}
